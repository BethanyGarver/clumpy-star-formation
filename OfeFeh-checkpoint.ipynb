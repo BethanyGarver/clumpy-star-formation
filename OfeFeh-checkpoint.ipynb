{
 "cells": [
  {
   "cell_type": "code",
   "execution_count": 1,
   "metadata": {},
   "outputs": [],
   "source": [
    "from astropy.table import Table\n",
    "import pylab as plt\n",
    "import numpy as np\n",
    "import scipy.stats as stats"
   ]
  },
  {
   "cell_type": "code",
   "execution_count": 2,
   "metadata": {},
   "outputs": [],
   "source": [
    "def ReadSG(time):\n",
    "    if time < 10:\n",
    "        time = '0{0}'.format(time)\n",
    "    fileName = 'coords.starsandgas.chemrun733DiffFB10T1.0.00{0}0.fits'.format(time)\n",
    "    cat = Table.read(fileName,1)\n",
    "    start = 0\n",
    "    for i in cat['P']:\n",
    "        if i == 's':\n",
    "            break\n",
    "        else:\n",
    "            start = start+1\n",
    "    end = len(cat)-1\n",
    "    return cat[start:end]"
   ]
  },
  {
   "cell_type": "code",
   "execution_count": 3,
   "metadata": {},
   "outputs": [],
   "source": [
    "def ReadStars(time):\n",
    "    if time < 100:\n",
    "        time = '0{0}'.format(time)\n",
    "    fileName = 'coords.chem733DiffFB10T1.0.0{0}0.fits'.format(time)\n",
    "    cat = Table.read(fileName,1)\n",
    "    return cat"
   ]
  },
  {
   "cell_type": "code",
   "execution_count": 4,
   "metadata": {},
   "outputs": [],
   "source": [
    "def FitsRead(time):\n",
    "    starsList = list(np.linspace(10,20,11))+list(np.linspace(30,100,8))\n",
    "    for i in range(0,len(starsList)):\n",
    "        starsList[i] = int(starsList[i])\n",
    "    sgList = list(np.linspace(1,9,9))+list(np.linspace(21,29,9))+list(np.linspace(31,39,9))\n",
    "    for i in range(0,len(sgList)):\n",
    "        sgList[i] = int(sgList[i])\n",
    "    if time in starsList:\n",
    "        cat = ReadStars(time)\n",
    "    elif time in sgList:\n",
    "        cat = ReadSG(time)\n",
    "    else:\n",
    "        raise ValueError('No file')\n",
    "    return cat"
   ]
  },
  {
   "cell_type": "code",
   "execution_count": 13,
   "metadata": {},
   "outputs": [
    {
     "data": {
      "text/plain": [
       "<matplotlib.image.AxesImage at 0x18180a20518>"
      ]
     },
     "execution_count": 13,
     "metadata": {},
     "output_type": "execute_result"
    },
    {
     "data": {
      "image/png": "[encoded data removed]",
      "text/plain": [
       "<Figure size 432x288 with 1 Axes>"
      ]
     },
     "metadata": {
      "needs_background": "light"
     },
     "output_type": "display_data"
    },
    {
     "data": {
      "image/png": "[encoded data removed]",
      "text/plain": [
       "<Figure size 432x288 with 1 Axes>"
      ]
     },
     "metadata": {
      "needs_background": "light"
     },
     "output_type": "display_data"
    }
   ],
   "source": [
    "cat = FitsRead(30)\n",
    "plt.scatter(cat['FEH'],cat['OFE'])\n",
    "plt.xlim(-1.5,1)\n",
    "plt.ylim(-0.6,0.6)\n",
    "plt.figure()\n",
    "im, xedges, yedges  = np.histogram2d (cat['FEH'],cat['OFE'],(100,100),range=[[-1.5,1],[-0.6,0.6]])\n",
    "extent = [xedges[0], xedges[-1], yedges[0], yedges[-1]]\n",
    "plt.imshow(im,extent=extent)"
   ]
  },
  {
   "cell_type": "code",
   "execution_count": 10,
   "metadata": {},
   "outputs": [
    {
     "name": "stdout",
     "output_type": "stream",
     "text": [
      "Help on function histogram2d in module numpy.lib.twodim_base:\n",
      "\n",
      "histogram2d(x, y, bins=10, range=None, normed=None, weights=None, density=None)\n",
      "    Compute the bi-dimensional histogram of two data samples.\n",
      "    \n",
      "    Parameters\n",
      "    ----------\n",
      "    x : array_like, shape (N,)\n",
      "        An array containing the x coordinates of the points to be\n",
      "        histogrammed.\n",
      "    y : array_like, shape (N,)\n",
      "        An array containing the y coordinates of the points to be\n",
      "        histogrammed.\n",
      "    bins : int or array_like or [int, int] or [array, array], optional\n",
      "        The bin specification:\n",
      "    \n",
      "          * If int, the number of bins for the two dimensions (nx=ny=bins).\n",
      "          * If array_like, the bin edges for the two dimensions\n",
      "            (x_edges=y_edges=bins).\n",
      "          * If [int, int], the number of bins in each dimension\n",
      "            (nx, ny = bins).\n",
      "          * If [array, array], the bin edges in each dimension\n",
      "            (x_edges, y_edges = bins).\n",
      "          * A combination [int, array] or [array, int], where int\n",
      "            is the number of bins and array is the bin edges.\n",
      "    \n",
      "    range : array_like, shape(2,2), optional\n",
      "        The leftmost and rightmost edges of the bins along each dimension\n",
      "        (if not specified explicitly in the `bins` parameters):\n",
      "        ``[[xmin, xmax], [ymin, ymax]]``. All values outside of this range\n",
      "        will be considered outliers and not tallied in the histogram.\n",
      "    density : bool, optional\n",
      "        If False, the default, returns the number of samples in each bin.\n",
      "        If True, returns the probability *density* function at the bin,\n",
      "        ``bin_count / sample_count / bin_area``.\n",
      "    normed : bool, optional\n",
      "        An alias for the density argument that behaves identically. To avoid\n",
      "        confusion with the broken normed argument to `histogram`, `density`\n",
      "        should be preferred.\n",
      "    weights : array_like, shape(N,), optional\n",
      "        An array of values ``w_i`` weighing each sample ``(x_i, y_i)``.\n",
      "        Weights are normalized to 1 if `normed` is True. If `normed` is\n",
      "        False, the values of the returned histogram are equal to the sum of\n",
      "        the weights belonging to the samples falling into each bin.\n",
      "    \n",
      "    Returns\n",
      "    -------\n",
      "    H : ndarray, shape(nx, ny)\n",
      "        The bi-dimensional histogram of samples `x` and `y`. Values in `x`\n",
      "        are histogrammed along the first dimension and values in `y` are\n",
      "        histogrammed along the second dimension.\n",
      "    xedges : ndarray, shape(nx+1,)\n",
      "        The bin edges along the first dimension.\n",
      "    yedges : ndarray, shape(ny+1,)\n",
      "        The bin edges along the second dimension.\n",
      "    \n",
      "    See Also\n",
      "    --------\n",
      "    histogram : 1D histogram\n",
      "    histogramdd : Multidimensional histogram\n",
      "    \n",
      "    Notes\n",
      "    -----\n",
      "    When `normed` is True, then the returned histogram is the sample\n",
      "    density, defined such that the sum over bins of the product\n",
      "    ``bin_value * bin_area`` is 1.\n",
      "    \n",
      "    Please note that the histogram does not follow the Cartesian convention\n",
      "    where `x` values are on the abscissa and `y` values on the ordinate\n",
      "    axis.  Rather, `x` is histogrammed along the first dimension of the\n",
      "    array (vertical), and `y` along the second dimension of the array\n",
      "    (horizontal).  This ensures compatibility with `histogramdd`.\n",
      "    \n",
      "    Examples\n",
      "    --------\n",
      "    >>> import matplotlib as mpl\n",
      "    >>> import matplotlib.pyplot as plt\n",
      "    \n",
      "    Construct a 2-D histogram with variable bin width. First define the bin\n",
      "    edges:\n",
      "    \n",
      "    >>> xedges = [0, 1, 3, 5]\n",
      "    >>> yedges = [0, 2, 3, 4, 6]\n",
      "    \n",
      "    Next we create a histogram H with random bin content:\n",
      "    \n",
      "    >>> x = np.random.normal(2, 1, 100)\n",
      "    >>> y = np.random.normal(1, 1, 100)\n",
      "    >>> H, xedges, yedges = np.histogram2d(x, y, bins=(xedges, yedges))\n",
      "    >>> H = H.T  # Let each row list bins with common y range.\n",
      "    \n",
      "    :func:`imshow <matplotlib.pyplot.imshow>` can only display square bins:\n",
      "    \n",
      "    >>> fig = plt.figure(figsize=(7, 3))\n",
      "    >>> ax = fig.add_subplot(131, title='imshow: square bins')\n",
      "    >>> plt.imshow(H, interpolation='nearest', origin='low',\n",
      "    ...         extent=[xedges[0], xedges[-1], yedges[0], yedges[-1]])\n",
      "    \n",
      "    :func:`pcolormesh <matplotlib.pyplot.pcolormesh>` can display actual edges:\n",
      "    \n",
      "    >>> ax = fig.add_subplot(132, title='pcolormesh: actual edges',\n",
      "    ...         aspect='equal')\n",
      "    >>> X, Y = np.meshgrid(xedges, yedges)\n",
      "    >>> ax.pcolormesh(X, Y, H)\n",
      "    \n",
      "    :class:`NonUniformImage <matplotlib.image.NonUniformImage>` can be used to\n",
      "    display actual bin edges with interpolation:\n",
      "    \n",
      "    >>> ax = fig.add_subplot(133, title='NonUniformImage: interpolated',\n",
      "    ...         aspect='equal', xlim=xedges[[0, -1]], ylim=yedges[[0, -1]])\n",
      "    >>> im = mpl.image.NonUniformImage(ax, interpolation='bilinear')\n",
      "    >>> xcenters = (xedges[:-1] + xedges[1:]) / 2\n",
      "    >>> ycenters = (yedges[:-1] + yedges[1:]) / 2\n",
      "    >>> im.set_data(xcenters, ycenters, H)\n",
      "    >>> ax.images.append(im)\n",
      "    >>> plt.show()\n",
      "\n"
     ]
    }
   ],
   "source": [
    "help(np.histogram2d)"
   ]
  },
  {
   "cell_type": "code",
   "execution_count": null,
   "metadata": {},
   "outputs": [],
   "source": []
  }
 ],
 "metadata": {
  "kernelspec": {
   "display_name": "Python 3",
   "language": "python",
   "name": "python3"
  },
  "language_info": {
   "codemirror_mode": {
    "name": "ipython",
    "version": 3
   },
   "file_extension": ".py",
   "mimetype": "text/x-python",
   "name": "python",
   "nbconvert_exporter": "python",
   "pygments_lexer": "ipython3",
   "version": "3.7.0"
  }
 },
 "nbformat": 4,
 "nbformat_minor": 2
}
